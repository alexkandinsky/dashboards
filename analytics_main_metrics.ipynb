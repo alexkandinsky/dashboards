{
  "nbformat": 4,
  "nbformat_minor": 0,
  "metadata": {
    "colab": {
      "provenance": [],
      "authorship_tag": "ABX9TyNjn9IkIgHlMPumpzMuv5PS"
    },
    "kernelspec": {
      "name": "python3",
      "display_name": "Python 3"
    },
    "language_info": {
      "name": "python"
    }
  },
  "cells": [
    {
      "cell_type": "markdown",
      "source": [
        "<b>ССЫЛКА НА ДАШБОРД: <b> <br>http://redash.public.karpov.courses/public/dashboards/JyYtHuhW0inF5wKcdJ311vLYdoG1bO9Mh8chEXH5?org_slug=default"
      ],
      "metadata": {
        "id": "pXnZ8iODaASJ"
      }
    },
    {
      "cell_type": "markdown",
      "source": [
        "### Расчёт DAU"
      ],
      "metadata": {
        "id": "UwGuRIdpae7E"
      }
    },
    {
      "cell_type": "code",
      "execution_count": null,
      "metadata": {
        "id": "S_MQXCaHYF4E"
      },
      "outputs": [],
      "source": [
        "select date_trunc('day', time) as date,\n",
        "       count(distinct user_id) as DAU\n",
        "from user_actions\n",
        "group by date"
      ]
    },
    {
      "cell_type": "markdown",
      "source": [
        "### Расчёт WAU"
      ],
      "metadata": {
        "id": "kUOq2NiqbBBW"
      }
    },
    {
      "cell_type": "code",
      "source": [
        "select date_trunc('week', time) as date,\n",
        "       count(distinct user_id) as WAU\n",
        "from user_actions\n",
        "group by date"
      ],
      "metadata": {
        "id": "nO-NnvR_ZIyG"
      },
      "execution_count": null,
      "outputs": []
    },
    {
      "cell_type": "markdown",
      "source": [
        "### Расчёт MAU"
      ],
      "metadata": {
        "id": "6Th8zEk6bBeJ"
      }
    },
    {
      "cell_type": "code",
      "source": [
        "select date_trunc('month', time) as date,\n",
        "       count(distinct user_id) as MAU\n",
        "from user_actions\n",
        "group by date"
      ],
      "metadata": {
        "id": "OyZLHo0WZLaZ"
      },
      "execution_count": null,
      "outputs": []
    },
    {
      "cell_type": "markdown",
      "source": [
        "### Активность курьеров по дням"
      ],
      "metadata": {
        "id": "90XX7VmobCGY"
      }
    },
    {
      "cell_type": "code",
      "source": [
        "select time::date as date,\n",
        "       count(distinct courier_id) as active_couriers\n",
        "from courier_actions\n",
        "group by date"
      ],
      "metadata": {
        "id": "al5iGMVTZON0"
      },
      "execution_count": null,
      "outputs": []
    },
    {
      "cell_type": "markdown",
      "source": [
        "### Количество доставленных заказов по дням"
      ],
      "metadata": {
        "id": "islou8wXbU7-"
      }
    },
    {
      "cell_type": "code",
      "source": [
        "select count(order_id) as delivered_orders,\n",
        "       time::date as date\n",
        "from courier_actions\n",
        "where action = 'deliver_order'\n",
        "group by date"
      ],
      "metadata": {
        "id": "Zux6Kv0dZQ-H"
      },
      "execution_count": null,
      "outputs": []
    },
    {
      "cell_type": "markdown",
      "source": [
        "### % отмененных заказов от общего числа заказов и количество заказаов на одного пользователя"
      ],
      "metadata": {
        "id": "N0XNS2ffbdFi"
      }
    },
    {
      "cell_type": "code",
      "source": [
        "select date,\n",
        "       active_users,\n",
        "       create_orders,\n",
        "       cancel_orders,\n",
        "       cancel_orders::float / create_orders as cancel_rate,\n",
        "       create_orders::float / active_users as orders_per_user\n",
        "from(\n",
        "select time::date as date,\n",
        "       count(distinct user_id) as active_users,\n",
        "       count(order_id) filter(where action = 'create_order') as create_orders,\n",
        "       count(order_id) filter(where action = 'cancel_order') as cancel_orders\n",
        "from user_actions\n",
        "group by date\n",
        ") as t1\n",
        ""
      ],
      "metadata": {
        "id": "OwE-Neb1ZVFP"
      },
      "execution_count": null,
      "outputs": []
    }
  ]
}