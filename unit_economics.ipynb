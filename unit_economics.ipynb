{
  "nbformat": 4,
  "nbformat_minor": 0,
  "metadata": {
    "colab": {
      "provenance": [],
      "authorship_tag": "ABX9TyMqiiUZJoHKMRIWhtPQwtE7"
    },
    "kernelspec": {
      "name": "python3",
      "display_name": "Python 3"
    },
    "language_info": {
      "name": "python"
    }
  },
  "cells": [
    {
      "cell_type": "markdown",
      "source": [
        "<b>ССЫЛКА НА ДАШБОРД:</b>\n",
        "(в процессе решения)"
      ],
      "metadata": {
        "id": "EqFS9Jv54xwu"
      }
    },
    {
      "cell_type": "markdown",
      "source": [
        "- Выручка, полученная в этот день.\n",
        "- Суммарная выручка на текущий день.\n",
        "- Прирост выручки, полученной в этот день, относительно значения выручки за предыдущий день."
      ],
      "metadata": {
        "id": "37e1SAqM6ZZZ"
      }
    },
    {
      "cell_type": "code",
      "execution_count": null,
      "metadata": {
        "id": "aecDk-C54dFC"
      },
      "outputs": [],
      "source": [
        "with date_revenue as(\n",
        "select date,\n",
        "       round(sum(price)) as revenue\n",
        "from products\n",
        "join (select creation_time::date as date,\n",
        "              unnest(product_ids) as product_id\n",
        "      from orders\n",
        "      where order_id not in (select order_id\n",
        "                             from user_actions\n",
        "                             where action = 'cancel_order')) as t1 using(product_id)\n",
        "group by date\n",
        "order by date\n",
        "),\n",
        "\n",
        "date_total_revenue as(\n",
        "select date,\n",
        "       revenue,\n",
        "       sum(revenue) over(order by date) as total_revenue\n",
        "from date_revenue\n",
        ")\n",
        "\n",
        "select date,\n",
        "       revenue,\n",
        "       total_revenue,\n",
        "       round(revenue :: decimal / lag(revenue, 1) over(ORDER BY date) * 100 - 100, 2) as revenue_change\n",
        "from date_total_revenue\n"
      ]
    },
    {
      "cell_type": "markdown",
      "source": [
        "- Выручка на пользователя (ARPU) за текущий день.\n",
        "- Выручка на платящего пользователя (ARPPU) за текущий день.\n",
        "- Выручка с заказа, или средний чек (AOV) за текущий день."
      ],
      "metadata": {
        "id": "3E71IajA6aBn"
      }
    },
    {
      "cell_type": "code",
      "source": [
        "with total_revenue as(\n",
        "select date,\n",
        "       sum(price) as sum_price\n",
        "from products\n",
        "join (select creation_time::date as date,\n",
        "             order_id,\n",
        "             unnest(product_ids) as product_id\n",
        "      from orders\n",
        "      where order_id not in(select order_id from user_actions where action = 'cancel_order')) as t1 using(product_id)\n",
        "group by date\n",
        "),\n",
        "\n",
        "total_users as (\n",
        "select time::date as date,\n",
        "       count(distinct user_id) as user_count\n",
        "from user_actions\n",
        "group by date\n",
        "),\n",
        "\n",
        "paying_users as (\n",
        "select time::date as date,\n",
        "       count(distinct user_id) as paying_user_count\n",
        "from user_actions\n",
        "where order_id not in (select order_id from user_actions where action = 'cancel_order')\n",
        "group by date\n",
        "),\n",
        "\n",
        "total_orders as (\n",
        "select creation_time::date as date,\n",
        "       count(order_id) as order_count\n",
        "from orders\n",
        "where order_id not in (select order_id from user_actions where action = 'cancel_order')\n",
        "group by date\n",
        ")\n",
        "\n",
        "\n",
        "select date,\n",
        "       round(sum_price::decimal / user_count, 2) as arpu,\n",
        "       round(sum_price::decimal / paying_user_count, 2) as arppu,\n",
        "       round(sum_price::decimal / order_count, 2) as aov\n",
        "from total_revenue\n",
        "join total_users using(date)\n",
        "join paying_users using(date)\n",
        "join total_orders using(date)\n",
        "order by date\n"
      ],
      "metadata": {
        "id": "PvGo17wi5CbJ"
      },
      "execution_count": null,
      "outputs": []
    },
    {
      "cell_type": "markdown",
      "source": [
        "- Накопленная выручка на пользователя (Running ARPU).\n",
        "- Накопленная выручка на платящего пользователя (Running ARPPU).\n",
        "- Накопленная выручка с заказа, или средний чек (Running AOV)."
      ],
      "metadata": {
        "id": "JoRh9MP76auE"
      }
    },
    {
      "cell_type": "code",
      "source": [
        "with total_revenue as (SELECT date,\n",
        "                              sum(price) as sum_price\n",
        "                       FROM  products\n",
        "                       join (SELECT creation_time::date as date,\n",
        "                                                    order_id,\n",
        "                                                    unnest(product_ids) as product_id\n",
        "                                             FROM orders\n",
        "                                             WHERE order_id not in (SELECT order_id\n",
        "                                                                     FROM   user_actions\n",
        "                                                                     WHERE  action = 'cancel_order')) as t1 using (product_id)\n",
        "                                            GROUP BY date),\n",
        "\n",
        "new_users as (SELECT time::date as date,\n",
        "                    count(distinct user_id) as new_users\n",
        "              FROM   user_actions\n",
        "              WHERE  (time::date, user_id) in (SELECT min(time::date),\n",
        "                                                      user_id\n",
        "                                               FROM   user_actions\n",
        "                                               GROUP BY user_id)\n",
        "              GROUP BY date),\n",
        "total_users as (SELECT date,\n",
        "                       sum(new_users) OVER (ORDER BY date) as total_user_count\n",
        "                FROM  new_users),\n",
        "paying_users as (SELECT time::date as date,\n",
        "                        count(distinct user_id) as paying_user_count\n",
        "                FROM user_actions\n",
        "                WHERE order_id not in (SELECT order_id\n",
        "                                              FROM user_actions\n",
        "                                       WHERE  action = 'cancel_order')\n",
        "                                       and (user_id, time::date) in (SELECT user_id,\n",
        "                                                                         min(time::date)\n",
        "                                                                  FROM  user_actions\n",
        "                                                                  WHERE  order_id not in (SELECT order_id\n",
        "                                                                                          FROM   user_actions\n",
        "                                                                                          WHERE  action = 'cancel_order')\n",
        "                GROUP BY date),\n",
        "total_orders as (SELECT creation_time::date as date,\n",
        "                        count(order_id) as order_count\n",
        "                FROM  orders\n",
        "                WHERE order_id not in (SELECT order_id\n",
        "                                      FROM  user_actions\n",
        "                                      WHERE  action = 'cancel_order')\n",
        "                GROUP BY date)\n",
        "SELECT date,\n",
        "       round(sum(sum_price) OVER (ORDER BY date) / total_user_count, 2) as running_arpu,\n",
        "       round(sum(sum_price) OVER (ORDER BY date) / sum(paying_user_count) OVER(ORDER BY date), 2) as running_arppu,\n",
        "       round(sum(sum_price) OVER (ORDER BY date) / sum(order_count) OVER (ORDER BY date), 2) as running_aov\n",
        "FROM   total_revenue\n",
        "join total_users using (date)\n",
        "join paying_users using (date)\n",
        "join total_orders using (date)\n",
        "ORDER BY date;"
      ],
      "metadata": {
        "id": "dFHy5Fiy5Lw9"
      },
      "execution_count": null,
      "outputs": []
    }
  ]
}