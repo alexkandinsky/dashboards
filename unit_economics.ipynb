{
  "nbformat": 4,
  "nbformat_minor": 0,
  "metadata": {
    "colab": {
      "provenance": [],
      "authorship_tag": "ABX9TyN5+GHgloJciijGJ9ve5J0X"
    },
    "kernelspec": {
      "name": "python3",
      "display_name": "Python 3"
    },
    "language_info": {
      "name": "python"
    }
  },
  "cells": [
    {
      "cell_type": "markdown",
      "source": [
        "<b>ССЫЛКА НА ДАШБОРД:</b>\n",
        "http://redash.public.karpov.courses/public/dashboards/AROgIoiFvylbh8lwtuXgkIV5lBvNXbWWQTEnZQdN?org_slug=default"
      ],
      "metadata": {
        "id": "EqFS9Jv54xwu"
      }
    },
    {
      "cell_type": "markdown",
      "source": [
        "- Выручка, полученная в этот день.\n",
        "- Суммарная выручка на текущий день.\n",
        "- Прирост выручки, полученной в этот день, относительно значения выручки за предыдущий день."
      ],
      "metadata": {
        "id": "37e1SAqM6ZZZ"
      }
    },
    {
      "cell_type": "code",
      "execution_count": null,
      "metadata": {
        "id": "aecDk-C54dFC"
      },
      "outputs": [],
      "source": [
        "with date_revenue as(\n",
        "select date,\n",
        "       round(sum(price)) as revenue\n",
        "from products\n",
        "join (select creation_time::date as date,\n",
        "              unnest(product_ids) as product_id\n",
        "      from orders\n",
        "      where order_id not in (select order_id\n",
        "                             from user_actions\n",
        "                             where action = 'cancel_order')) as t1 using(product_id)\n",
        "group by date\n",
        "order by date\n",
        "),\n",
        "\n",
        "date_total_revenue as(\n",
        "select date,\n",
        "       revenue,\n",
        "       sum(revenue) over(order by date) as total_revenue\n",
        "from date_revenue\n",
        ")\n",
        "\n",
        "select date,\n",
        "       revenue,\n",
        "       total_revenue,\n",
        "       round(revenue :: decimal / lag(revenue, 1) over(ORDER BY date) * 100 - 100, 2) as revenue_change\n",
        "from date_total_revenue\n"
      ]
    },
    {
      "cell_type": "markdown",
      "source": [
        "- Выручка на пользователя (ARPU) за текущий день.\n",
        "- Выручка на платящего пользователя (ARPPU) за текущий день.\n",
        "- Выручка с заказа, или средний чек (AOV) за текущий день."
      ],
      "metadata": {
        "id": "3E71IajA6aBn"
      }
    },
    {
      "cell_type": "code",
      "source": [
        "with total_revenue as(\n",
        "select date,\n",
        "       sum(price) as sum_price\n",
        "from products\n",
        "join (select creation_time::date as date,\n",
        "             order_id,\n",
        "             unnest(product_ids) as product_id\n",
        "      from orders\n",
        "      where order_id not in(select order_id from user_actions where action = 'cancel_order')) as t1 using(product_id)\n",
        "group by date\n",
        "),\n",
        "\n",
        "total_users as (\n",
        "select time::date as date,\n",
        "       count(distinct user_id) as user_count\n",
        "from user_actions\n",
        "group by date\n",
        "),\n",
        "\n",
        "paying_users as (\n",
        "select time::date as date,\n",
        "       count(distinct user_id) as paying_user_count\n",
        "from user_actions\n",
        "where order_id not in (select order_id from user_actions where action = 'cancel_order')\n",
        "group by date\n",
        "),\n",
        "\n",
        "total_orders as (\n",
        "select creation_time::date as date,\n",
        "       count(order_id) as order_count\n",
        "from orders\n",
        "where order_id not in (select order_id from user_actions where action = 'cancel_order')\n",
        "group by date\n",
        ")\n",
        "\n",
        "\n",
        "select date,\n",
        "       round(sum_price::decimal / user_count, 2) as arpu,\n",
        "       round(sum_price::decimal / paying_user_count, 2) as arppu,\n",
        "       round(sum_price::decimal / order_count, 2) as aov\n",
        "from total_revenue\n",
        "join total_users using(date)\n",
        "join paying_users using(date)\n",
        "join total_orders using(date)\n",
        "order by date\n"
      ],
      "metadata": {
        "id": "PvGo17wi5CbJ"
      },
      "execution_count": null,
      "outputs": []
    },
    {
      "cell_type": "markdown",
      "source": [
        "- Накопленная выручка на пользователя (Running ARPU).\n",
        "- Накопленная выручка на платящего пользователя (Running ARPPU).\n",
        "- Накопленная выручка с заказа, или средний чек (Running AOV)."
      ],
      "metadata": {
        "id": "JoRh9MP76auE"
      }
    },
    {
      "cell_type": "code",
      "source": [
        "with total_revenue as (SELECT date,\n",
        "                              sum(price) as sum_price\n",
        "                       FROM  products\n",
        "                       join (SELECT creation_time::date as date,\n",
        "                                                    order_id,\n",
        "                                                    unnest(product_ids) as product_id\n",
        "                                             FROM orders\n",
        "                                             WHERE order_id not in (SELECT order_id\n",
        "                                                                     FROM   user_actions\n",
        "                                                                     WHERE  action = 'cancel_order')) as t1 using (product_id)\n",
        "                                            GROUP BY date),\n",
        "\n",
        "new_users as (SELECT time::date as date,\n",
        "                    count(distinct user_id) as new_users\n",
        "              FROM   user_actions\n",
        "              WHERE  (time::date, user_id) in (SELECT min(time::date),\n",
        "                                                      user_id\n",
        "                                               FROM   user_actions\n",
        "                                               GROUP BY user_id)\n",
        "              GROUP BY date),\n",
        "total_users as (SELECT date,\n",
        "                       sum(new_users) OVER (ORDER BY date) as total_user_count\n",
        "                FROM  new_users),\n",
        "paying_users as (SELECT time::date as date,\n",
        "                        count(distinct user_id) as paying_user_count\n",
        "                FROM user_actions\n",
        "                WHERE order_id not in (SELECT order_id\n",
        "                                              FROM user_actions\n",
        "                                       WHERE  action = 'cancel_order')\n",
        "                                       and (user_id, time::date) in (SELECT user_id,\n",
        "                                                                         min(time::date)\n",
        "                                                                  FROM  user_actions\n",
        "                                                                  WHERE  order_id not in (SELECT order_id\n",
        "                                                                                          FROM   user_actions\n",
        "                                                                                          WHERE  action = 'cancel_order')\n",
        "                GROUP BY date),\n",
        "total_orders as (SELECT creation_time::date as date,\n",
        "                        count(order_id) as order_count\n",
        "                FROM  orders\n",
        "                WHERE order_id not in (SELECT order_id\n",
        "                                      FROM  user_actions\n",
        "                                      WHERE  action = 'cancel_order')\n",
        "                GROUP BY date)\n",
        "SELECT date,\n",
        "       round(sum(sum_price) OVER (ORDER BY date) / total_user_count, 2) as running_arpu,\n",
        "       round(sum(sum_price) OVER (ORDER BY date) / sum(paying_user_count) OVER(ORDER BY date), 2) as running_arppu,\n",
        "       round(sum(sum_price) OVER (ORDER BY date) / sum(order_count) OVER (ORDER BY date), 2) as running_aov\n",
        "FROM   total_revenue\n",
        "join total_users using (date)\n",
        "join paying_users using (date)\n",
        "join total_orders using (date)\n",
        "ORDER BY date;"
      ],
      "metadata": {
        "id": "dFHy5Fiy5Lw9"
      },
      "execution_count": null,
      "outputs": []
    },
    {
      "cell_type": "markdown",
      "source": [
        "- Выручкa на пользователя (ARPU).\n",
        "- Выручкa на платящего пользователя (ARPPU).\n",
        "- Выручкa на заказ (AOV)."
      ],
      "metadata": {
        "id": "igc-msSVAbNZ"
      }
    },
    {
      "cell_type": "code",
      "source": [
        "with dow_revenue as(SELECT to_char(date, 'Day') as weekday,\n",
        "                           date_part('isodow', date) as weekday_number,\n",
        "                           sum(price) as revenue\n",
        "                    FROM(SELECT date,\n",
        "                                product_id,\n",
        "                                price FROM(SELECT creation_time::date as date,\n",
        "                                                                 order_id,\n",
        "                                                                 unnest(product_ids) as product_id\n",
        "                    join products using(product_id)\n",
        "                    WHERE  order_id not in (SELECT order_id\n",
        "                                            FROM  user_actions\n",
        "                                            WHERE  action = 'cancel_order')\n",
        "                    and date between '2022-08-26'\n",
        "                    and '2022-09-09') as unnest_price\n",
        "                    GROUP BY weekday, weekday_number),\n",
        "\n",
        "total_users as(SELECT to_char(time, 'Day') as weekday,\n",
        "                      date_part('isodow', time) as weekday_number,\n",
        "                      count(distinct user_id) as user_count\n",
        "               FROM user_actions\n",
        "               WHERE  time between '2022-08-26' and '2022-09-09'\n",
        "              GROUP BY weekday, weekday_number),\n",
        "\n",
        "paying_users as(SELECT to_char(time, 'Day') as weekday,\n",
        "                      date_part('isodow', time) as weekday_number,\n",
        "                      count(distinct user_id) as paying_user_count\n",
        "                FROM user_actions\n",
        "                WHERE  order_id not in(SELECT order_id\n",
        "                                       FROM user_actions\n",
        "                                       WHERE action = 'cancel_order')\n",
        "                                       and time between '2022-08-26' and '2022-09-09'\n",
        "                                       GROUP BY weekday, weekday_number),\n",
        "\n",
        "total_orders as(SELECT to_char(creation_time, 'Day') as weekday,\n",
        "                       date_part('isodow', creation_time) as weekday_number,\n",
        "                       count(order_id) as order_count\n",
        "                FROM orders\n",
        "                WHERE order_id not in(SELECT order_id\n",
        "                FROM user_actions\n",
        "                WHERE  action = 'cancel_order')\n",
        "                and creation_time between '2022-08-26' and '2022-09-09'\n",
        "                GROUP BY weekday, weekday_number)\n",
        "\n",
        "SELECT dr.weekday,\n",
        "       dr.weekday_number,\n",
        "       round(revenue::decimal / user_count, 2) as arpu ,\n",
        "       round(revenue::decimal / paying_user_count, 2) as arppu,\n",
        "       round(revenue::decimal / order_count, 2) as aov\n",
        "FROM dow_revenue as dr\n",
        "join total_users using(weekday)\n",
        "join paying_users using(weekday)\n",
        "join total_orders using(weekday)\n",
        "ORDER BY weekday_number"
      ],
      "metadata": {
        "id": "WYYKVOuaAiMq"
      },
      "execution_count": null,
      "outputs": []
    },
    {
      "cell_type": "markdown",
      "source": [
        "- Выручка, полученная в этот день.\n",
        "- Выручка с заказов новых пользователей, полученная в этот день.\n",
        "- Доля выручки с заказов новых пользователей в общей выручке, полученная за этот день.\n",
        "- Доля выручки с заказов остальных пользователей в общей выручке, полученная за этот день."
      ],
      "metadata": {
        "id": "x3zs1l6jB6Dn"
      }
    },
    {
      "cell_type": "code",
      "source": [
        "with date_revenue as(\n",
        "SELECT date,\n",
        "       round(sum(price)) as revenue\n",
        "FROM products\n",
        "join (SELECT creation_time::date as date,\n",
        "             unnest(product_ids) as product_id\n",
        "      FROM orders\n",
        "      WHERE order_id not in (SELECT order_id\n",
        "                             FROM user_actions\n",
        "                             WHERE  action = 'cancel_order')) as t1 using(product_id)\n",
        "      GROUP BY date\n",
        "      ORDER BY date),\n",
        "\n",
        "date_total_revenue as(\n",
        "SELECT date,\n",
        "       revenue,\n",
        "       sum(revenue) OVER(ORDER BY date) as total_revenue\n",
        " FROM date_revenue),\n",
        "\n",
        " date_new_revenue as (\n",
        "SELECT date,\n",
        "       sum(price) as new_users_revenue\n",
        "FROM (SELECT date,\n",
        "             product_id,\n",
        "             price\n",
        "FROM (SELECT order_id,\n",
        "             creation_time :: date as date,\n",
        "             unnest(product_ids) as product_id\n",
        "FROM orders) as t1\n",
        "join products using (product_id)\n",
        "WHERE  order_id not in (SELECT order_id\n",
        "                        FROM user_actions\n",
        "                        WHERE  action = 'cancel_order')\n",
        "and order_id in (SELECT order_id\n",
        "                 FROM user_actions\n",
        "                 WHERE (time :: date, user_id) in (SELECT min(time :: date),\n",
        "                                                          user_id\n",
        "                                                   FROM user_actions\n",
        "                                                   GROUP BY user_id))) as t2\n",
        "                GROUP BY 1)\n",
        "\n",
        "SELECT date,\n",
        "       revenue,\n",
        "       new_users_revenue,\n",
        "       round(new_users_revenue::decimal / revenue * 100, 2) as new_users_revenue_share,\n",
        "       100 - round(new_users_revenue::decimal / revenue * 100,\n",
        "                   2) as old_users_revenue_share\n",
        "FROM   date_revenue join date_new_revenue using(date)\n",
        "ORDER BY date"
      ],
      "metadata": {
        "id": "MgihfBWnB6R8"
      },
      "execution_count": null,
      "outputs": []
    }
  ]
}
