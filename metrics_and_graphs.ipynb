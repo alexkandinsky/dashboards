{
  "nbformat": 4,
  "nbformat_minor": 0,
  "metadata": {
    "colab": {
      "provenance": [],
      "authorship_tag": "ABX9TyOybBnJ+YEdl4TOWQ9zr3f1"
    },
    "kernelspec": {
      "name": "python3",
      "display_name": "Python 3"
    },
    "language_info": {
      "name": "python"
    }
  },
  "cells": [
    {
      "cell_type": "markdown",
      "source": [
        "<b>ССЫЛКА НА ДАШБОРД</b><br>http://redash.public.karpov.courses/public/dashboards/UPzQvkqxtoVpDQawCEVl6qIKCYJxNeMSwopFFwvK?org_slug=default"
      ],
      "metadata": {
        "id": "96KFp5dPkyp0"
      }
    },
    {
      "cell_type": "markdown",
      "source": [
        "### Динамика новых пользователей и новых курьеров, динамика всех пользователей и всех курьеров."
      ],
      "metadata": {
        "id": "kbLEhgJCkzzB"
      }
    },
    {
      "cell_type": "code",
      "execution_count": null,
      "metadata": {
        "id": "CEW435WWjZ8X"
      },
      "outputs": [],
      "source": [
        "with t1 as(\n",
        "select time::date as date,\n",
        "       count(distinct user_id) as new_users\n",
        "from user_actions\n",
        "where (user_id, time) in (select user_id,\n",
        "                                 min(time)\n",
        "                          from user_actions\n",
        "                          group by user_id)\n",
        "group by date\n",
        "),\n",
        "\n",
        "t2 as(\n",
        "select time::date as date,\n",
        "       count(distinct courier_id) as new_couriers\n",
        "from courier_actions\n",
        "where (courier_id, time) in (select courier_id,\n",
        "                                 min(time)\n",
        "                          from courier_actions\n",
        "                          group by courier_id)\n",
        "group by date\n",
        ")\n",
        "\n",
        "select date,\n",
        "       new_users,\n",
        "       new_couriers,\n",
        "       sum(new_users) over(order by date)::int as total_users,\n",
        "       sum(new_couriers) over(order by date)::int as total_couriers\n",
        "from t1\n",
        "join t2 using(date)\n",
        "order by date"
      ]
    },
    {
      "cell_type": "markdown",
      "source": [
        "### Прирост числа новых пользователей и курьеров, прирост общего числа пользователей и курьеров.\n"
      ],
      "metadata": {
        "id": "WxxXsGHIlIAN"
      }
    },
    {
      "cell_type": "code",
      "source": [
        "with t1 as(\n",
        "select time::date as date,\n",
        "       count(distinct user_id) as new_users\n",
        "from user_actions\n",
        "where (user_id, time) in (select user_id,\n",
        "                                 min(time)\n",
        "                          from user_actions\n",
        "                          group by user_id)\n",
        "group by date\n",
        "),\n",
        "\n",
        "t2 as(\n",
        "select time::date as date,\n",
        "       count(distinct courier_id) as new_couriers\n",
        "from courier_actions\n",
        "where (courier_id, time) in (select courier_id,\n",
        "                                 min(time)\n",
        "                          from courier_actions\n",
        "                          group by courier_id)\n",
        "group by date\n",
        "),\n",
        "\n",
        "t3 as(\n",
        "select date,\n",
        "       new_users,\n",
        "       new_couriers,\n",
        "       sum(new_users) over(order by date)::int as total_users,\n",
        "       sum(new_couriers) over(order by date)::int as total_couriers\n",
        "from t1\n",
        "join t2 using(date)\n",
        "order by date\n",
        ")\n",
        "\n",
        "select date,\n",
        "       new_users,\n",
        "       new_couriers,\n",
        "       total_users,\n",
        "       total_couriers,\n",
        "       round(new_users::decimal / lag(new_users, 1) over() * 100 - 100, 2) as new_users_change,\n",
        "       round(new_couriers::decimal / lag(new_couriers, 1) over() * 100 - 100, 2) as new_couriers_change,\n",
        "       round(total_users::decimal / lag(total_users, 1) over() * 100 - 100, 2) as total_users_growth,\n",
        "       round(total_couriers::decimal / lag(total_couriers, 1) over() * 100 - 100, 2) as total_couriers_growth\n",
        "from t3\n"
      ],
      "metadata": {
        "id": "7fpu-eUYj2Lj"
      },
      "execution_count": null,
      "outputs": []
    },
    {
      "cell_type": "markdown",
      "source": [
        "### Число платящих пользователей, число активных курьеров, доли платящих пользователей в общем числе пользователей на текущий день, доли активных курьеров в общем числе курьеров на текущий день."
      ],
      "metadata": {
        "id": "mGHJlrgcmYMt"
      }
    },
    {
      "cell_type": "code",
      "source": [
        "with pay_act as(\n",
        "select date,\n",
        "      paying_users,\n",
        "      active_couriers\n",
        "from(\n",
        "    select time::date as date,\n",
        "           count(distinct user_id) as paying_users\n",
        "    from user_actions\n",
        "    where order_id not in (select order_id from user_actions where action = 'cancel_order')\n",
        "    group by date\n",
        ") as t1\n",
        "join (select time::date as date,\n",
        "      count(distinct courier_id) as active_couriers\n",
        "      from courier_actions\n",
        "      where order_id in (select order_id from courier_actions where action = 'deliver_order')\n",
        "      group by date) as t2 using(date)\n",
        "),\n",
        "\n",
        "new_u as(\n",
        "SELECT time::date as date,\n",
        "        count(distinct user_id) as new_users\n",
        "FROM   user_actions\n",
        "WHERE  (user_id, time) in (SELECT user_id,\n",
        "                                   min(time)\n",
        "                           FROM   user_actions\n",
        "                           GROUP BY user_id)\n",
        "group by date\n",
        "),\n",
        "\n",
        "new_c as(\n",
        "SELECT time::date as date,\n",
        "        count(distinct courier_id) as new_couriers\n",
        "FROM   courier_actions\n",
        "WHERE  (courier_id, time) in (SELECT courier_id,\n",
        "                                   min(time)\n",
        "                           FROM   courier_actions\n",
        "                           GROUP BY courier_id)\n",
        "group by date\n",
        ")\n",
        "\n",
        "select date,\n",
        "       paying_users,\n",
        "       active_couriers,\n",
        "       round(paying_users::decimal / sum(new_users) OVER(ORDER BY date) * 100, 2) as paying_users_share,\n",
        "       round(active_couriers::decimal / sum(new_couriers) over(order by date) * 100, 2) as active_couriers_share\n",
        "from pay_act\n",
        "join new_u using(date)\n",
        "join new_c using(date)\n",
        "order by date"
      ],
      "metadata": {
        "id": "7ERSmaKZj8Y5"
      },
      "execution_count": null,
      "outputs": []
    },
    {
      "cell_type": "markdown",
      "source": [
        "### Динамика общего числа заказов, числа первых заказов и числа заказов новых пользователей, а так же доли первых заказов и доли заказов новых пользователей в общем числе заказов."
      ],
      "metadata": {
        "id": "evrz6LLwmr1B"
      }
    },
    {
      "cell_type": "code",
      "source": [
        "with all_orders as(\n",
        "select time::date as date,\n",
        "       count(order_id) as orders\n",
        "from user_actions\n",
        "where order_id not in (select order_id from user_actions where action = 'cancel_order')\n",
        "group by date\n",
        "order by date\n",
        "),\n",
        "\n",
        "first_orders as (\n",
        "select time::date as date,\n",
        "       count(distinct user_id) as first_orders\n",
        "from user_actions\n",
        "where order_id not in (select order_id from user_actions where action = 'cancel_order')\n",
        "and (user_id, time::date) in (select distinct user_id, min(time::date) from user_actions where order_id not in (select order_id from user_actions where action = 'cancel_order') group by user_id)\n",
        "group by date\n",
        "order by date\n",
        "),\n",
        "\n",
        "new_users_orders as (\n",
        "select time::date as date,\n",
        "       count(order_id) as new_users_orders\n",
        "from user_actions\n",
        "join (select user_id,\n",
        "      min(time::date) as first_date\n",
        "from user_actions\n",
        "group by user_id) as first_orders using(user_id)\n",
        "where time::date =  first_date\n",
        "and order_id not in (select order_id from user_actions where action = 'cancel_order')\n",
        "group by date\n",
        ")\n",
        "\n",
        "select date,\n",
        "       orders,\n",
        "       first_orders,\n",
        "       new_users_orders,\n",
        "       round(first_orders::decimal / orders * 100, 2) as first_orders_share,\n",
        "       round(new_users_orders::decimal / orders * 100, 2) as new_users_orders_share\n",
        "from all_orders\n",
        "join first_orders using(date)\n",
        "join new_users_orders using(date)\n",
        "order by date\n",
        "\n"
      ],
      "metadata": {
        "id": "8Yx2QTbdkF4F"
      },
      "execution_count": null,
      "outputs": []
    },
    {
      "cell_type": "markdown",
      "source": [
        "### Доли пользователей с одним и несколькими заказами."
      ],
      "metadata": {
        "id": "1HDZXcN1nb5m"
      }
    },
    {
      "cell_type": "code",
      "source": [
        "with all_paying_users as(\n",
        "    select time::date as date,\n",
        "            count(distinct user_id) as paying_users\n",
        "    from user_actions\n",
        "    where order_id not in(select order_id from user_actions where action = 'cancel_order')\n",
        "    group by date\n",
        "),\n",
        "\n",
        "users_with_1_order as(\n",
        "select date,\n",
        "       count(distinct user_id) as user_1_order\n",
        "from(\n",
        "    select time::date as date,\n",
        "           user_id\n",
        "    from user_actions\n",
        "    where order_id not in (select order_id from user_actions where action = 'cancel_order')\n",
        "    group by date, user_id\n",
        "    having count(order_id) = 1) as t1\n",
        "group by date\n",
        ")\n",
        "\n",
        "select date,\n",
        "       round(user_1_order::decimal / paying_users * 100, 2) as single_order_users_share,\n",
        "       round(100 - (user_1_order::decimal / paying_users * 100), 2) as several_orders_users_share\n",
        "from all_paying_users\n",
        "join users_with_1_order using(date)\n",
        "order by date\n"
      ],
      "metadata": {
        "id": "cqoprJwbkMG3"
      },
      "execution_count": null,
      "outputs": []
    },
    {
      "cell_type": "markdown",
      "source": [
        "### Динамика показателя cancel rate и числа успешных/отменённых заказов."
      ],
      "metadata": {
        "id": "PSa_VggenpjV"
      }
    },
    {
      "cell_type": "code",
      "source": [
        "with delivered_orders as (\n",
        "select EXTRACT(HOUR FROM creation_time)::int as hour,\n",
        "       count(order_id) as successful_orders\n",
        "from orders\n",
        "where order_id in (select order_id from courier_actions where action = 'deliver_order')\n",
        "group by hour\n",
        "order by hour\n",
        "),\n",
        "\n",
        "canceled_orders as(\n",
        "select EXTRACT(HOUR FROM creation_time)::int as hour,\n",
        "       count(order_id) as canceled_orders\n",
        "from orders\n",
        "where order_id in (select order_id from user_actions where action = 'cancel_order')\n",
        "group by hour\n",
        "order by hour\n",
        ")\n",
        "\n",
        "select hour,\n",
        "       successful_orders,\n",
        "       canceled_orders,\n",
        "       round(canceled_orders::decimal / (successful_orders + canceled_orders), 3) as cancel_rate\n",
        "from delivered_orders\n",
        "join canceled_orders using(hour)"
      ],
      "metadata": {
        "id": "idCNeH5GkTYv"
      },
      "execution_count": null,
      "outputs": []
    },
    {
      "cell_type": "markdown",
      "source": [
        "### Динамика числа пользователей и заказов на одного курьера."
      ],
      "metadata": {
        "id": "Jb6bNMtWn3fr"
      }
    },
    {
      "cell_type": "code",
      "source": [
        "with user_by_date as(\n",
        "select time::date as date,\n",
        "       count(distinct user_id) as user_count\n",
        "from user_actions\n",
        "where order_id not in (select order_id from user_actions where action = 'cancel_order')\n",
        "group by date\n",
        "),\n",
        "\n",
        "courier_by_date as(\n",
        "select time::date as date,\n",
        "       count(distinct courier_id) as courier_count\n",
        "from courier_actions\n",
        "where order_id in (select order_id from courier_actions where action = 'deliver_order')\n",
        "group by date\n",
        "),\n",
        "\n",
        "order_by_date as(\n",
        "select creation_time::date as date,\n",
        "       count(order_id) as order_count\n",
        "from orders\n",
        "where order_id not in (select order_id from user_actions where action = 'cancel_order')\n",
        "group by date\n",
        ")\n",
        "\n",
        "select date,\n",
        "       round(user_count::decimal / courier_count, 2) users_per_courier,\n",
        "       round(order_count::decimal / courier_count, 2) orders_per_courier\n",
        "from user_by_date\n",
        "join courier_by_date using(date)\n",
        "join order_by_date using(date)\n",
        "order by date"
      ],
      "metadata": {
        "id": "aULj0BhQkZwf"
      },
      "execution_count": null,
      "outputs": []
    },
    {
      "cell_type": "markdown",
      "source": [
        "### Динамика среднего времени доставки заказов."
      ],
      "metadata": {
        "id": "pwHKOL_1oD_t"
      }
    },
    {
      "cell_type": "code",
      "source": [
        "select time::date as date,\n",
        "       avg(deliver_time)::int as minutes_to_deliver\n",
        "from courier_actions\n",
        "join (\n",
        "select order_id,\n",
        "       extract(EPOCH FROM(max(time)- min(time)))/60 as deliver_time\n",
        "from courier_actions\n",
        "where order_id not in (select order_id from user_actions where action = 'cancel_order')\n",
        "group by order_id) as t1 using(order_id)\n",
        "group by date\n",
        "order by date"
      ],
      "metadata": {
        "id": "Kmp9rjNHkgMP"
      },
      "execution_count": null,
      "outputs": []
    }
  ]
}